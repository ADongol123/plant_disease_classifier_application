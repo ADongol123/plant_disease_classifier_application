{
 "cells": [
  {
   "cell_type": "code",
   "execution_count": 58,
   "metadata": {},
   "outputs": [],
   "source": [
    "import torch\n",
    "import pandas as pd\n",
    "from sklearn.feature_extraction.text import TfidfVectorizer\n",
    "from sklearn.model_selection import train_test_split\n",
    "from transformers import pipeline, set_seed\n",
    "from datasets import Dataset\n",
    "from transformers import BertTokenizer\n",
    "from transformers import GPT2LMHeadModel, GPT2Tokenizer, TrainingArguments,Trainer"
   ]
  },
  {
   "cell_type": "code",
   "execution_count": 59,
   "metadata": {},
   "outputs": [
    {
     "data": {
      "text/html": [
       "<div>\n",
       "<style scoped>\n",
       "    .dataframe tbody tr th:only-of-type {\n",
       "        vertical-align: middle;\n",
       "    }\n",
       "\n",
       "    .dataframe tbody tr th {\n",
       "        vertical-align: top;\n",
       "    }\n",
       "\n",
       "    .dataframe thead th {\n",
       "        text-align: right;\n",
       "    }\n",
       "</style>\n",
       "<table border=\"1\" class=\"dataframe\">\n",
       "  <thead>\n",
       "    <tr style=\"text-align: right;\">\n",
       "      <th></th>\n",
       "      <th>Disease ID</th>\n",
       "      <th>Disease Name</th>\n",
       "      <th>Affected Plant Species</th>\n",
       "      <th>Symptom Description</th>\n",
       "      <th>Diagnosis Method</th>\n",
       "      <th>Treatment Options</th>\n",
       "    </tr>\n",
       "  </thead>\n",
       "  <tbody>\n",
       "    <tr>\n",
       "      <th>0</th>\n",
       "      <td>1</td>\n",
       "      <td>Powdery Mildew</td>\n",
       "      <td>Cucumber; Zucchini; Grapes</td>\n",
       "      <td>Powdery white fungal growth appears on leaves,...</td>\n",
       "      <td>Diagnosed by visual inspection, especially ide...</td>\n",
       "      <td>Treat with sulfur-based fungicides or neem oil...</td>\n",
       "    </tr>\n",
       "    <tr>\n",
       "      <th>1</th>\n",
       "      <td>2</td>\n",
       "      <td>Downy Mildew</td>\n",
       "      <td>Cucumbers; Lettuce; Grapes</td>\n",
       "      <td>Downy mildew manifests as yellowish patches on...</td>\n",
       "      <td>Diagnosed through careful visual inspection fo...</td>\n",
       "      <td>Apply copper-based fungicides or organic treat...</td>\n",
       "    </tr>\n",
       "    <tr>\n",
       "      <th>2</th>\n",
       "      <td>3</td>\n",
       "      <td>Leaf Spot</td>\n",
       "      <td>Tomatoes; Potatoes; Lettuce</td>\n",
       "      <td>Leaf spot causes small, round lesions that sta...</td>\n",
       "      <td>Diagnosis is typically based on visual inspect...</td>\n",
       "      <td>Use fungicides or bactericides depending on th...</td>\n",
       "    </tr>\n",
       "    <tr>\n",
       "      <th>3</th>\n",
       "      <td>4</td>\n",
       "      <td>Root Rot</td>\n",
       "      <td>Tomatoes; Lettuce; Cucumbers</td>\n",
       "      <td>Root rot leads to wilting and yellowing of the...</td>\n",
       "      <td>Diagnosed by examining the roots for signs of ...</td>\n",
       "      <td>Improve soil drainage and avoid over-watering....</td>\n",
       "    </tr>\n",
       "    <tr>\n",
       "      <th>4</th>\n",
       "      <td>5</td>\n",
       "      <td>Late Blight</td>\n",
       "      <td>Potatoes; Tomatoes</td>\n",
       "      <td>Late blight results in dark, water-soaked lesi...</td>\n",
       "      <td>Diagnosis is typically confirmed by observing ...</td>\n",
       "      <td>Use fungicides containing copper or metalaxyl ...</td>\n",
       "    </tr>\n",
       "    <tr>\n",
       "      <th>...</th>\n",
       "      <td>...</td>\n",
       "      <td>...</td>\n",
       "      <td>...</td>\n",
       "      <td>...</td>\n",
       "      <td>...</td>\n",
       "      <td>...</td>\n",
       "    </tr>\n",
       "    <tr>\n",
       "      <th>645</th>\n",
       "      <td>646</td>\n",
       "      <td>Tulip Bud Rot</td>\n",
       "      <td>Tulips</td>\n",
       "      <td>Rotting buds; Soft  discolored flowers</td>\n",
       "      <td>Visual inspection</td>\n",
       "      <td>Fungicides; Pruning infected flowers</td>\n",
       "    </tr>\n",
       "    <tr>\n",
       "      <th>646</th>\n",
       "      <td>647</td>\n",
       "      <td>Daffodil Rust</td>\n",
       "      <td>Daffodils</td>\n",
       "      <td>Orange pustules on leaves</td>\n",
       "      <td>Visual inspection</td>\n",
       "      <td>Fungicides; Pruning infected leaves</td>\n",
       "    </tr>\n",
       "    <tr>\n",
       "      <th>647</th>\n",
       "      <td>648</td>\n",
       "      <td>Orchid Botrytis Leaf Spot</td>\n",
       "      <td>Orchids</td>\n",
       "      <td>Water-soaked lesions on leaves</td>\n",
       "      <td>Visual inspection</td>\n",
       "      <td>Fungicides; Pruning infected parts</td>\n",
       "    </tr>\n",
       "    <tr>\n",
       "      <th>648</th>\n",
       "      <td>649</td>\n",
       "      <td>Rose Verticillium Wilt</td>\n",
       "      <td>Roses</td>\n",
       "      <td>Yellowing leaves; Stunted growth</td>\n",
       "      <td>Soil tests</td>\n",
       "      <td>Fungicides; Resistant varieties</td>\n",
       "    </tr>\n",
       "    <tr>\n",
       "      <th>649</th>\n",
       "      <td>650</td>\n",
       "      <td>Sunflower Fusarium Wilt</td>\n",
       "      <td>Sunflowers</td>\n",
       "      <td>Yellowness and wilting of leaves</td>\n",
       "      <td>Soil tests</td>\n",
       "      <td>Fungicides; Resistant varieties</td>\n",
       "    </tr>\n",
       "  </tbody>\n",
       "</table>\n",
       "<p>650 rows × 6 columns</p>\n",
       "</div>"
      ],
      "text/plain": [
       "     Disease ID               Disease Name        Affected Plant Species  \\\n",
       "0             1             Powdery Mildew    Cucumber; Zucchini; Grapes   \n",
       "1             2               Downy Mildew    Cucumbers; Lettuce; Grapes   \n",
       "2             3                  Leaf Spot   Tomatoes; Potatoes; Lettuce   \n",
       "3             4                   Root Rot  Tomatoes; Lettuce; Cucumbers   \n",
       "4             5                Late Blight            Potatoes; Tomatoes   \n",
       "..          ...                        ...                           ...   \n",
       "645         646              Tulip Bud Rot                        Tulips   \n",
       "646         647              Daffodil Rust                     Daffodils   \n",
       "647         648  Orchid Botrytis Leaf Spot                       Orchids   \n",
       "648         649     Rose Verticillium Wilt                         Roses   \n",
       "649         650    Sunflower Fusarium Wilt                    Sunflowers   \n",
       "\n",
       "                                   Symptom Description  \\\n",
       "0    Powdery white fungal growth appears on leaves,...   \n",
       "1    Downy mildew manifests as yellowish patches on...   \n",
       "2    Leaf spot causes small, round lesions that sta...   \n",
       "3    Root rot leads to wilting and yellowing of the...   \n",
       "4    Late blight results in dark, water-soaked lesi...   \n",
       "..                                                 ...   \n",
       "645             Rotting buds; Soft  discolored flowers   \n",
       "646                          Orange pustules on leaves   \n",
       "647                     Water-soaked lesions on leaves   \n",
       "648                   Yellowing leaves; Stunted growth   \n",
       "649                   Yellowness and wilting of leaves   \n",
       "\n",
       "                                      Diagnosis Method  \\\n",
       "0    Diagnosed by visual inspection, especially ide...   \n",
       "1    Diagnosed through careful visual inspection fo...   \n",
       "2    Diagnosis is typically based on visual inspect...   \n",
       "3    Diagnosed by examining the roots for signs of ...   \n",
       "4    Diagnosis is typically confirmed by observing ...   \n",
       "..                                                 ...   \n",
       "645                                  Visual inspection   \n",
       "646                                  Visual inspection   \n",
       "647                                  Visual inspection   \n",
       "648                                         Soil tests   \n",
       "649                                         Soil tests   \n",
       "\n",
       "                                     Treatment Options  \n",
       "0    Treat with sulfur-based fungicides or neem oil...  \n",
       "1    Apply copper-based fungicides or organic treat...  \n",
       "2    Use fungicides or bactericides depending on th...  \n",
       "3    Improve soil drainage and avoid over-watering....  \n",
       "4    Use fungicides containing copper or metalaxyl ...  \n",
       "..                                                 ...  \n",
       "645               Fungicides; Pruning infected flowers  \n",
       "646                Fungicides; Pruning infected leaves  \n",
       "647                 Fungicides; Pruning infected parts  \n",
       "648                    Fungicides; Resistant varieties  \n",
       "649                    Fungicides; Resistant varieties  \n",
       "\n",
       "[650 rows x 6 columns]"
      ]
     },
     "execution_count": 59,
     "metadata": {},
     "output_type": "execute_result"
    }
   ],
   "source": [
    "dataset = pd.read_csv('../data/Advisor_data/final.csv')\n",
    "dataset"
   ]
  },
  {
   "cell_type": "code",
   "execution_count": 60,
   "metadata": {},
   "outputs": [
    {
     "data": {
      "text/plain": [
       "'cpu'"
      ]
     },
     "execution_count": 60,
     "metadata": {},
     "output_type": "execute_result"
    }
   ],
   "source": [
    "device = 'cuda' if torch.cuda.is_available() else \"cpu\"\n",
    "device"
   ]
  },
  {
   "cell_type": "code",
   "execution_count": 4,
   "metadata": {},
   "outputs": [],
   "source": [
    "dataset = dataset.rename(columns = {\n",
    "    'Disease ID' : 'id',\n",
    "    'Disease Name': 'disease_name',\n",
    "    'Affected Plant Species': 'affected_species',\n",
    "    'Symptom Description': 'symptoms',\n",
    "    'Diagnosis Method': 'diagnosis',\n",
    "    'Treatment Options': 'treatment'\n",
    "})"
   ]
  },
  {
   "cell_type": "code",
   "execution_count": 5,
   "metadata": {},
   "outputs": [
    {
     "data": {
      "text/html": [
       "<div>\n",
       "<style scoped>\n",
       "    .dataframe tbody tr th:only-of-type {\n",
       "        vertical-align: middle;\n",
       "    }\n",
       "\n",
       "    .dataframe tbody tr th {\n",
       "        vertical-align: top;\n",
       "    }\n",
       "\n",
       "    .dataframe thead th {\n",
       "        text-align: right;\n",
       "    }\n",
       "</style>\n",
       "<table border=\"1\" class=\"dataframe\">\n",
       "  <thead>\n",
       "    <tr style=\"text-align: right;\">\n",
       "      <th></th>\n",
       "      <th>id</th>\n",
       "      <th>disease_name</th>\n",
       "      <th>affected_species</th>\n",
       "      <th>symptoms</th>\n",
       "      <th>diagnosis</th>\n",
       "      <th>treatment</th>\n",
       "    </tr>\n",
       "  </thead>\n",
       "  <tbody>\n",
       "    <tr>\n",
       "      <th>0</th>\n",
       "      <td>1</td>\n",
       "      <td>Powdery Mildew</td>\n",
       "      <td>Cucumber; Zucchini; Grapes</td>\n",
       "      <td>Powdery white fungal growth appears on leaves,...</td>\n",
       "      <td>Diagnosed by visual inspection, especially ide...</td>\n",
       "      <td>Treat with sulfur-based fungicides or neem oil...</td>\n",
       "    </tr>\n",
       "    <tr>\n",
       "      <th>1</th>\n",
       "      <td>2</td>\n",
       "      <td>Downy Mildew</td>\n",
       "      <td>Cucumbers; Lettuce; Grapes</td>\n",
       "      <td>Downy mildew manifests as yellowish patches on...</td>\n",
       "      <td>Diagnosed through careful visual inspection fo...</td>\n",
       "      <td>Apply copper-based fungicides or organic treat...</td>\n",
       "    </tr>\n",
       "    <tr>\n",
       "      <th>2</th>\n",
       "      <td>3</td>\n",
       "      <td>Leaf Spot</td>\n",
       "      <td>Tomatoes; Potatoes; Lettuce</td>\n",
       "      <td>Leaf spot causes small, round lesions that sta...</td>\n",
       "      <td>Diagnosis is typically based on visual inspect...</td>\n",
       "      <td>Use fungicides or bactericides depending on th...</td>\n",
       "    </tr>\n",
       "    <tr>\n",
       "      <th>3</th>\n",
       "      <td>4</td>\n",
       "      <td>Root Rot</td>\n",
       "      <td>Tomatoes; Lettuce; Cucumbers</td>\n",
       "      <td>Root rot leads to wilting and yellowing of the...</td>\n",
       "      <td>Diagnosed by examining the roots for signs of ...</td>\n",
       "      <td>Improve soil drainage and avoid over-watering....</td>\n",
       "    </tr>\n",
       "    <tr>\n",
       "      <th>4</th>\n",
       "      <td>5</td>\n",
       "      <td>Late Blight</td>\n",
       "      <td>Potatoes; Tomatoes</td>\n",
       "      <td>Late blight results in dark, water-soaked lesi...</td>\n",
       "      <td>Diagnosis is typically confirmed by observing ...</td>\n",
       "      <td>Use fungicides containing copper or metalaxyl ...</td>\n",
       "    </tr>\n",
       "  </tbody>\n",
       "</table>\n",
       "</div>"
      ],
      "text/plain": [
       "   id    disease_name              affected_species  \\\n",
       "0   1  Powdery Mildew    Cucumber; Zucchini; Grapes   \n",
       "1   2    Downy Mildew    Cucumbers; Lettuce; Grapes   \n",
       "2   3       Leaf Spot   Tomatoes; Potatoes; Lettuce   \n",
       "3   4        Root Rot  Tomatoes; Lettuce; Cucumbers   \n",
       "4   5     Late Blight            Potatoes; Tomatoes   \n",
       "\n",
       "                                            symptoms  \\\n",
       "0  Powdery white fungal growth appears on leaves,...   \n",
       "1  Downy mildew manifests as yellowish patches on...   \n",
       "2  Leaf spot causes small, round lesions that sta...   \n",
       "3  Root rot leads to wilting and yellowing of the...   \n",
       "4  Late blight results in dark, water-soaked lesi...   \n",
       "\n",
       "                                           diagnosis  \\\n",
       "0  Diagnosed by visual inspection, especially ide...   \n",
       "1  Diagnosed through careful visual inspection fo...   \n",
       "2  Diagnosis is typically based on visual inspect...   \n",
       "3  Diagnosed by examining the roots for signs of ...   \n",
       "4  Diagnosis is typically confirmed by observing ...   \n",
       "\n",
       "                                           treatment  \n",
       "0  Treat with sulfur-based fungicides or neem oil...  \n",
       "1  Apply copper-based fungicides or organic treat...  \n",
       "2  Use fungicides or bactericides depending on th...  \n",
       "3  Improve soil drainage and avoid over-watering....  \n",
       "4  Use fungicides containing copper or metalaxyl ...  "
      ]
     },
     "execution_count": 5,
     "metadata": {},
     "output_type": "execute_result"
    }
   ],
   "source": [
    "dataset.head()"
   ]
  },
  {
   "cell_type": "code",
   "execution_count": 53,
   "metadata": {},
   "outputs": [],
   "source": [
    "def format_species(species):\n",
    "    # Split the string into a list of words by ';' and remove extra spaces\n",
    "    species_list = [s.strip() for s in species.split(';')]\n",
    "    \n",
    "    # If there's only one item, return it in singular form\n",
    "    if len(species_list) == 1:\n",
    "        return f\"It affects the plants such as {species_list[0]}\"\n",
    "    \n",
    "    # If multiple items, join them with commas and \"and\" before the last item\n",
    "    species_str = ', '.join(species_list[:-1]) + f\" and {species_list[-1]}\"\n",
    "    return f\"It affects the plants such as {species_str}\""
   ]
  },
  {
   "cell_type": "code",
   "execution_count": 56,
   "metadata": {},
   "outputs": [
    {
     "data": {
      "text/plain": [
       "0      It affects the plants such as Cucumber, Zucchi...\n",
       "1      It affects the plants such as Cucumbers, Lettu...\n",
       "2      It affects the plants such as Tomatoes, Potato...\n",
       "3      It affects the plants such as Tomatoes, Lettuc...\n",
       "4      It affects the plants such as Potatoes and Tom...\n",
       "                             ...                        \n",
       "645                 It affects the plants such as Tulips\n",
       "646              It affects the plants such as Daffodils\n",
       "647                It affects the plants such as Orchids\n",
       "648                  It affects the plants such as Roses\n",
       "649             It affects the plants such as Sunflowers\n",
       "Name: affected_species, Length: 650, dtype: object"
      ]
     },
     "execution_count": 56,
     "metadata": {},
     "output_type": "execute_result"
    }
   ],
   "source": [
    "dataset['affected_species'] = dataset['affected_species'].apply(format_species)\n",
    "dataset['affected_species']"
   ]
  },
  {
   "cell_type": "code",
   "execution_count": 6,
   "metadata": {},
   "outputs": [],
   "source": [
    "dataset['input_text'] = dataset['disease_name']+':'+ dataset['affected_species'] + ' ' + dataset['symptoms'] + ' ' + dataset['diagnosis']\n",
    "dataset['output_text'] = dataset['treatment']"
   ]
  },
  {
   "cell_type": "code",
   "execution_count": 7,
   "metadata": {},
   "outputs": [],
   "source": [
    "# Split the dataset into train and test\n",
    "train_data,test_data = train_test_split(dataset,test_size=0.2)"
   ]
  },
  {
   "cell_type": "code",
   "execution_count": 8,
   "metadata": {},
   "outputs": [
    {
     "data": {
      "text/html": [
       "<div>\n",
       "<style scoped>\n",
       "    .dataframe tbody tr th:only-of-type {\n",
       "        vertical-align: middle;\n",
       "    }\n",
       "\n",
       "    .dataframe tbody tr th {\n",
       "        vertical-align: top;\n",
       "    }\n",
       "\n",
       "    .dataframe thead th {\n",
       "        text-align: right;\n",
       "    }\n",
       "</style>\n",
       "<table border=\"1\" class=\"dataframe\">\n",
       "  <thead>\n",
       "    <tr style=\"text-align: right;\">\n",
       "      <th></th>\n",
       "      <th>id</th>\n",
       "      <th>disease_name</th>\n",
       "      <th>affected_species</th>\n",
       "      <th>symptoms</th>\n",
       "      <th>diagnosis</th>\n",
       "      <th>treatment</th>\n",
       "      <th>input_text</th>\n",
       "      <th>output_text</th>\n",
       "    </tr>\n",
       "  </thead>\n",
       "  <tbody>\n",
       "    <tr>\n",
       "      <th>634</th>\n",
       "      <td>635</td>\n",
       "      <td>Daffodil Stem Blight</td>\n",
       "      <td>Daffodils</td>\n",
       "      <td>Dark lesions on stems; Wilting flowers</td>\n",
       "      <td>Visual inspection</td>\n",
       "      <td>Fungicides; Pruning infected parts</td>\n",
       "      <td>Daffodil Stem Blight Daffodils Dark lesions on...</td>\n",
       "      <td>Fungicides; Pruning infected parts</td>\n",
       "    </tr>\n",
       "    <tr>\n",
       "      <th>499</th>\n",
       "      <td>500</td>\n",
       "      <td>Walnut Xylella fastidiosa</td>\n",
       "      <td>Walnuts</td>\n",
       "      <td>Yellowing leaves; Dieback</td>\n",
       "      <td>Soil tests; Lab tests (PCR)</td>\n",
       "      <td>Fungicides; Pruning infected parts</td>\n",
       "      <td>Walnut Xylella fastidiosa Walnuts Yellowing le...</td>\n",
       "      <td>Fungicides; Pruning infected parts</td>\n",
       "    </tr>\n",
       "    <tr>\n",
       "      <th>23</th>\n",
       "      <td>24</td>\n",
       "      <td>Fusarium Wilt</td>\n",
       "      <td>Tomato; Banana; Cotton</td>\n",
       "      <td>Fusarium wilt causes yellowing, wilting, and s...</td>\n",
       "      <td>Diagnosed by observing yellowing and wilting s...</td>\n",
       "      <td>Use resistant plant varieties and treat seeds ...</td>\n",
       "      <td>Fusarium Wilt Tomato; Banana; Cotton Fusarium ...</td>\n",
       "      <td>Use resistant plant varieties and treat seeds ...</td>\n",
       "    </tr>\n",
       "    <tr>\n",
       "      <th>604</th>\n",
       "      <td>605</td>\n",
       "      <td>Daffodil Leaf Spot</td>\n",
       "      <td>Daffodils</td>\n",
       "      <td>Small  dark spots with yellow margins on leaves</td>\n",
       "      <td>Visual inspection</td>\n",
       "      <td>Fungicides; Pruning infected parts</td>\n",
       "      <td>Daffodil Leaf Spot Daffodils Small  dark spots...</td>\n",
       "      <td>Fungicides; Pruning infected parts</td>\n",
       "    </tr>\n",
       "    <tr>\n",
       "      <th>447</th>\n",
       "      <td>448</td>\n",
       "      <td>Bacterial Necrosis</td>\n",
       "      <td>Cashews; Almonds</td>\n",
       "      <td>Sunken lesions on branches; Yellowing leaves</td>\n",
       "      <td>Visual inspection; Lab tests (PCR)</td>\n",
       "      <td>Copper-based fungicides</td>\n",
       "      <td>Bacterial Necrosis Cashews; Almonds Sunken les...</td>\n",
       "      <td>Copper-based fungicides</td>\n",
       "    </tr>\n",
       "    <tr>\n",
       "      <th>...</th>\n",
       "      <td>...</td>\n",
       "      <td>...</td>\n",
       "      <td>...</td>\n",
       "      <td>...</td>\n",
       "      <td>...</td>\n",
       "      <td>...</td>\n",
       "      <td>...</td>\n",
       "      <td>...</td>\n",
       "    </tr>\n",
       "    <tr>\n",
       "      <th>494</th>\n",
       "      <td>495</td>\n",
       "      <td>Cashew Dieback</td>\n",
       "      <td>Cashews</td>\n",
       "      <td>Stunted growth; Dead branches</td>\n",
       "      <td>Visual inspection</td>\n",
       "      <td>Fungicides; Pruning infected parts</td>\n",
       "      <td>Cashew Dieback Cashews Stunted growth; Dead br...</td>\n",
       "      <td>Fungicides; Pruning infected parts</td>\n",
       "    </tr>\n",
       "    <tr>\n",
       "      <th>492</th>\n",
       "      <td>493</td>\n",
       "      <td>Almond Leaf Scorch</td>\n",
       "      <td>Almonds</td>\n",
       "      <td>Yellowing of leaf edges; Dry spots</td>\n",
       "      <td>Visual inspection</td>\n",
       "      <td>Fungicides; Proper irrigation</td>\n",
       "      <td>Almond Leaf Scorch Almonds Yellowing of leaf e...</td>\n",
       "      <td>Fungicides; Proper irrigation</td>\n",
       "    </tr>\n",
       "    <tr>\n",
       "      <th>75</th>\n",
       "      <td>76</td>\n",
       "      <td>Brown Stripe Downy Mildew</td>\n",
       "      <td>Maize</td>\n",
       "      <td>Brown stripe downy mildew causes brown, stripe...</td>\n",
       "      <td>Diagnosed by observing symptoms and fungal cul...</td>\n",
       "      <td>Apply fungicides like metalaxyl and improve cr...</td>\n",
       "      <td>Brown Stripe Downy Mildew Maize Brown stripe d...</td>\n",
       "      <td>Apply fungicides like metalaxyl and improve cr...</td>\n",
       "    </tr>\n",
       "    <tr>\n",
       "      <th>510</th>\n",
       "      <td>511</td>\n",
       "      <td>Almond Mite</td>\n",
       "      <td>Cashews</td>\n",
       "      <td>Yellowing leaves; Deformed growth</td>\n",
       "      <td>Visual inspection; Insect traps</td>\n",
       "      <td>Insecticide; Pruning infected leaves</td>\n",
       "      <td>Almond Mite Cashews Yellowing leaves; Deformed...</td>\n",
       "      <td>Insecticide; Pruning infected leaves</td>\n",
       "    </tr>\n",
       "    <tr>\n",
       "      <th>570</th>\n",
       "      <td>571</td>\n",
       "      <td>Rose Bacterial Blight</td>\n",
       "      <td>Roses</td>\n",
       "      <td>Dark lesions on stems and leaves</td>\n",
       "      <td>Visual inspection; Lab tests (PCR)</td>\n",
       "      <td>Copper-based fungicides; Pruning infected parts</td>\n",
       "      <td>Rose Bacterial Blight Roses Dark lesions on st...</td>\n",
       "      <td>Copper-based fungicides; Pruning infected parts</td>\n",
       "    </tr>\n",
       "  </tbody>\n",
       "</table>\n",
       "<p>520 rows × 8 columns</p>\n",
       "</div>"
      ],
      "text/plain": [
       "      id               disease_name        affected_species  \\\n",
       "634  635       Daffodil Stem Blight               Daffodils   \n",
       "499  500  Walnut Xylella fastidiosa                 Walnuts   \n",
       "23    24              Fusarium Wilt  Tomato; Banana; Cotton   \n",
       "604  605         Daffodil Leaf Spot               Daffodils   \n",
       "447  448         Bacterial Necrosis        Cashews; Almonds   \n",
       "..   ...                        ...                     ...   \n",
       "494  495             Cashew Dieback                 Cashews   \n",
       "492  493         Almond Leaf Scorch                 Almonds   \n",
       "75    76  Brown Stripe Downy Mildew                   Maize   \n",
       "510  511                Almond Mite                 Cashews   \n",
       "570  571      Rose Bacterial Blight                   Roses   \n",
       "\n",
       "                                              symptoms  \\\n",
       "634             Dark lesions on stems; Wilting flowers   \n",
       "499                          Yellowing leaves; Dieback   \n",
       "23   Fusarium wilt causes yellowing, wilting, and s...   \n",
       "604    Small  dark spots with yellow margins on leaves   \n",
       "447       Sunken lesions on branches; Yellowing leaves   \n",
       "..                                                 ...   \n",
       "494                      Stunted growth; Dead branches   \n",
       "492                 Yellowing of leaf edges; Dry spots   \n",
       "75   Brown stripe downy mildew causes brown, stripe...   \n",
       "510                  Yellowing leaves; Deformed growth   \n",
       "570                   Dark lesions on stems and leaves   \n",
       "\n",
       "                                             diagnosis  \\\n",
       "634                                  Visual inspection   \n",
       "499                        Soil tests; Lab tests (PCR)   \n",
       "23   Diagnosed by observing yellowing and wilting s...   \n",
       "604                                  Visual inspection   \n",
       "447                 Visual inspection; Lab tests (PCR)   \n",
       "..                                                 ...   \n",
       "494                                  Visual inspection   \n",
       "492                                  Visual inspection   \n",
       "75   Diagnosed by observing symptoms and fungal cul...   \n",
       "510                    Visual inspection; Insect traps   \n",
       "570                 Visual inspection; Lab tests (PCR)   \n",
       "\n",
       "                                             treatment  \\\n",
       "634                 Fungicides; Pruning infected parts   \n",
       "499                 Fungicides; Pruning infected parts   \n",
       "23   Use resistant plant varieties and treat seeds ...   \n",
       "604                 Fungicides; Pruning infected parts   \n",
       "447                            Copper-based fungicides   \n",
       "..                                                 ...   \n",
       "494                 Fungicides; Pruning infected parts   \n",
       "492                      Fungicides; Proper irrigation   \n",
       "75   Apply fungicides like metalaxyl and improve cr...   \n",
       "510               Insecticide; Pruning infected leaves   \n",
       "570    Copper-based fungicides; Pruning infected parts   \n",
       "\n",
       "                                            input_text  \\\n",
       "634  Daffodil Stem Blight Daffodils Dark lesions on...   \n",
       "499  Walnut Xylella fastidiosa Walnuts Yellowing le...   \n",
       "23   Fusarium Wilt Tomato; Banana; Cotton Fusarium ...   \n",
       "604  Daffodil Leaf Spot Daffodils Small  dark spots...   \n",
       "447  Bacterial Necrosis Cashews; Almonds Sunken les...   \n",
       "..                                                 ...   \n",
       "494  Cashew Dieback Cashews Stunted growth; Dead br...   \n",
       "492  Almond Leaf Scorch Almonds Yellowing of leaf e...   \n",
       "75   Brown Stripe Downy Mildew Maize Brown stripe d...   \n",
       "510  Almond Mite Cashews Yellowing leaves; Deformed...   \n",
       "570  Rose Bacterial Blight Roses Dark lesions on st...   \n",
       "\n",
       "                                           output_text  \n",
       "634                 Fungicides; Pruning infected parts  \n",
       "499                 Fungicides; Pruning infected parts  \n",
       "23   Use resistant plant varieties and treat seeds ...  \n",
       "604                 Fungicides; Pruning infected parts  \n",
       "447                            Copper-based fungicides  \n",
       "..                                                 ...  \n",
       "494                 Fungicides; Pruning infected parts  \n",
       "492                      Fungicides; Proper irrigation  \n",
       "75   Apply fungicides like metalaxyl and improve cr...  \n",
       "510               Insecticide; Pruning infected leaves  \n",
       "570    Copper-based fungicides; Pruning infected parts  \n",
       "\n",
       "[520 rows x 8 columns]"
      ]
     },
     "execution_count": 8,
     "metadata": {},
     "output_type": "execute_result"
    }
   ],
   "source": [
    "train_data"
   ]
  },
  {
   "cell_type": "code",
   "execution_count": 9,
   "metadata": {},
   "outputs": [],
   "source": [
    "# Convert the pandas DataFrame to Hugging Face dataset format\n",
    "train_dataset = Dataset.from_pandas(train_data[['input_text', 'output_text']])\n",
    "test_dataset = Dataset.from_pandas(test_data[['input_text', 'output_text']])\n"
   ]
  },
  {
   "cell_type": "code",
   "execution_count": 10,
   "metadata": {},
   "outputs": [
    {
     "data": {
      "text/plain": [
       "Dataset({\n",
       "    features: ['input_text', 'output_text', '__index_level_0__'],\n",
       "    num_rows: 520\n",
       "})"
      ]
     },
     "execution_count": 10,
     "metadata": {},
     "output_type": "execute_result"
    }
   ],
   "source": [
    "train_dataset"
   ]
  },
  {
   "cell_type": "code",
   "execution_count": 11,
   "metadata": {},
   "outputs": [],
   "source": [
    "# Load pre-trained GPT-2 model and tokenizer\n",
    "model_name = 'gpt2'  # You can also try 'EleutherAI/gpt-neo-2.7B' for GPT-Neo\n",
    "model = GPT2LMHeadModel.from_pretrained(model_name)\n",
    "tokenizer = GPT2Tokenizer.from_pretrained(model_name)"
   ]
  },
  {
   "cell_type": "code",
   "execution_count": 12,
   "metadata": {},
   "outputs": [
    {
     "name": "stderr",
     "output_type": "stream",
     "text": [
      "Map: 100%|██████████| 520/520 [00:00<00:00, 2799.38 examples/s]\n",
      "Map: 100%|██████████| 130/130 [00:00<00:00, 2256.39 examples/s]\n"
     ]
    }
   ],
   "source": [
    "# GPT-2 requires padding token to be set explicitly\n",
    "tokenizer.pad_token = tokenizer.eos_token  # Set padding token to eos_token for GPT-2\n",
    "\n",
    "# Step 3: Preprocessing the Dataset (Tokenization)\n",
    "def tokenize_function(examples):\n",
    "    return tokenizer(examples['input_text'], truncation=True, padding='max_length', max_length=512)\n",
    "\n",
    "# Apply the tokenization function to both train and test datasets\n",
    "train_dataset = train_dataset.map(tokenize_function, batched=True)\n",
    "test_dataset = test_dataset.map(tokenize_function, batched=True)"
   ]
  },
  {
   "cell_type": "code",
   "execution_count": 26,
   "metadata": {},
   "outputs": [
    {
     "name": "stderr",
     "output_type": "stream",
     "text": [
      "\n",
      "\u001b[A\n",
      "Map: 100%|██████████| 520/520 [00:00<00:00, 2507.19 examples/s]\n",
      "\n",
      "Map: 100%|██████████| 130/130 [00:00<00:00, 2679.79 examples/s]\n"
     ]
    }
   ],
   "source": [
    "# Modify the inputs and labels for language modeling (shift labels for next-token prediction)\n",
    "def shift_labels(batch):\n",
    "    # Shift the labels by one token\n",
    "    batch[\"labels\"] = batch[\"input_ids\"].copy()\n",
    "    batch[\"labels\"] = [ids[1:] + [tokenizer.pad_token_id] for ids in batch[\"labels\"]]  # Shift labels\n",
    "    return batch\n",
    "\n",
    "train_dataset = train_dataset.map(shift_labels, batched=True)\n",
    "test_dataset = test_dataset.map(shift_labels, batched=True)"
   ]
  },
  {
   "cell_type": "code",
   "execution_count": 27,
   "metadata": {},
   "outputs": [
    {
     "data": {
      "text/plain": [
       "Dataset({\n",
       "    features: ['input_text', 'output_text', '__index_level_0__', 'input_ids', 'attention_mask', 'labels'],\n",
       "    num_rows: 520\n",
       "})"
      ]
     },
     "execution_count": 27,
     "metadata": {},
     "output_type": "execute_result"
    }
   ],
   "source": [
    "train_dataset"
   ]
  },
  {
   "cell_type": "code",
   "execution_count": 28,
   "metadata": {},
   "outputs": [
    {
     "name": "stderr",
     "output_type": "stream",
     "text": [
      "d:\\AI and ML\\plant_disease_classifier_application\\cuda\\Lib\\site-packages\\transformers\\training_args.py:1575: FutureWarning: `evaluation_strategy` is deprecated and will be removed in version 4.46 of 🤗 Transformers. Use `eval_strategy` instead\n",
      "  warnings.warn(\n"
     ]
    }
   ],
   "source": [
    "\n",
    "# Settting up the Trainer and Training Arguments\n",
    "training_args = TrainingArguments(\n",
    "    output_dir=\"./gpt2_finetuned\",  # Output directory where model checkpoints will be saved\n",
    "    evaluation_strategy=\"epoch\",  # Evaluate at the end of each epoch\n",
    "    learning_rate=5e-5,  # Learning rate for fine-tuning\n",
    "    per_device_train_batch_size=2,  # Batch size for training\n",
    "    per_device_eval_batch_size=2,  # Batch size for evaluation\n",
    "    num_train_epochs=3,  # Number of epochs to train\n",
    "    weight_decay=0.01,  # Weight decay to prevent overfitting\n",
    "    save_total_limit=2,  # Limit the number of saved checkpoints\n",
    "    logging_dir=\"./logs\",  # Directory for logs\n",
    "    logging_steps=10,  # Log every 10 steps\n",
    "    push_to_hub=False,  # Disable pushing to Hugging Face Hub\n",
    ")"
   ]
  },
  {
   "cell_type": "code",
   "execution_count": 29,
   "metadata": {},
   "outputs": [],
   "source": [
    "trainer = Trainer(\n",
    "    model = model,\n",
    "    args = training_args,\n",
    "    train_dataset= train_dataset,\n",
    "    eval_dataset=test_dataset\n",
    ")"
   ]
  },
  {
   "cell_type": "code",
   "execution_count": 30,
   "metadata": {},
   "outputs": [
    {
     "name": "stderr",
     "output_type": "stream",
     "text": [
      "  0%|          | 0/780 [07:04<?, ?it/s]\n",
      "                                                 \n",
      "  1%|▏         | 10/780 [00:45<58:36,  4.57s/it]"
     ]
    },
    {
     "name": "stdout",
     "output_type": "stream",
     "text": [
      "{'loss': 2.4588, 'grad_norm': 2.9180593490600586, 'learning_rate': 4.935897435897436e-05, 'epoch': 0.04}\n"
     ]
    },
    {
     "name": "stderr",
     "output_type": "stream",
     "text": [
      "                                                \n",
      "  3%|▎         | 20/780 [01:30<57:31,  4.54s/it]"
     ]
    },
    {
     "name": "stdout",
     "output_type": "stream",
     "text": [
      "{'loss': 0.475, 'grad_norm': 1.4517159461975098, 'learning_rate': 4.871794871794872e-05, 'epoch': 0.08}\n"
     ]
    },
    {
     "name": "stderr",
     "output_type": "stream",
     "text": [
      "                                                \n",
      "  4%|▍         | 30/780 [02:16<56:32,  4.52s/it]"
     ]
    },
    {
     "name": "stdout",
     "output_type": "stream",
     "text": [
      "{'loss': 0.3077, 'grad_norm': 1.1693569421768188, 'learning_rate': 4.8076923076923084e-05, 'epoch': 0.12}\n"
     ]
    },
    {
     "name": "stderr",
     "output_type": "stream",
     "text": [
      "                                                \n",
      "  5%|▌         | 40/780 [03:01<56:54,  4.61s/it]"
     ]
    },
    {
     "name": "stdout",
     "output_type": "stream",
     "text": [
      "{'loss': 0.3937, 'grad_norm': 1.2612810134887695, 'learning_rate': 4.7435897435897435e-05, 'epoch': 0.15}\n"
     ]
    },
    {
     "name": "stderr",
     "output_type": "stream",
     "text": [
      "                                                \n",
      "  6%|▋         | 50/780 [03:47<55:58,  4.60s/it]"
     ]
    },
    {
     "name": "stdout",
     "output_type": "stream",
     "text": [
      "{'loss': 0.2484, 'grad_norm': 1.2207701206207275, 'learning_rate': 4.67948717948718e-05, 'epoch': 0.19}\n"
     ]
    },
    {
     "name": "stderr",
     "output_type": "stream",
     "text": [
      "                                                \n",
      "  8%|▊         | 60/780 [04:33<55:02,  4.59s/it]"
     ]
    },
    {
     "name": "stdout",
     "output_type": "stream",
     "text": [
      "{'loss': 0.2704, 'grad_norm': 1.969726324081421, 'learning_rate': 4.615384615384616e-05, 'epoch': 0.23}\n"
     ]
    },
    {
     "name": "stderr",
     "output_type": "stream",
     "text": [
      "                                                \n",
      "  9%|▉         | 70/780 [05:19<53:25,  4.52s/it]"
     ]
    },
    {
     "name": "stdout",
     "output_type": "stream",
     "text": [
      "{'loss': 0.2662, 'grad_norm': 4.54311466217041, 'learning_rate': 4.5512820512820516e-05, 'epoch': 0.27}\n"
     ]
    },
    {
     "name": "stderr",
     "output_type": "stream",
     "text": [
      "                                                \n",
      " 10%|█         | 80/780 [06:03<52:13,  4.48s/it]"
     ]
    },
    {
     "name": "stdout",
     "output_type": "stream",
     "text": [
      "{'loss': 0.3039, 'grad_norm': 1.7762080430984497, 'learning_rate': 4.4871794871794874e-05, 'epoch': 0.31}\n"
     ]
    },
    {
     "name": "stderr",
     "output_type": "stream",
     "text": [
      "                                                \n",
      " 12%|█▏        | 90/780 [06:48<51:04,  4.44s/it]"
     ]
    },
    {
     "name": "stdout",
     "output_type": "stream",
     "text": [
      "{'loss': 0.2375, 'grad_norm': 1.3824553489685059, 'learning_rate': 4.423076923076923e-05, 'epoch': 0.35}\n"
     ]
    },
    {
     "name": "stderr",
     "output_type": "stream",
     "text": [
      "                                                 \n",
      " 13%|█▎        | 100/780 [07:32<50:00,  4.41s/it]"
     ]
    },
    {
     "name": "stdout",
     "output_type": "stream",
     "text": [
      "{'loss': 0.2308, 'grad_norm': 1.9171643257141113, 'learning_rate': 4.358974358974359e-05, 'epoch': 0.38}\n"
     ]
    },
    {
     "name": "stderr",
     "output_type": "stream",
     "text": [
      "                                                 \n",
      " 14%|█▍        | 110/780 [08:17<49:36,  4.44s/it]"
     ]
    },
    {
     "name": "stdout",
     "output_type": "stream",
     "text": [
      "{'loss': 0.2522, 'grad_norm': 2.2309203147888184, 'learning_rate': 4.294871794871795e-05, 'epoch': 0.42}\n"
     ]
    },
    {
     "name": "stderr",
     "output_type": "stream",
     "text": [
      "                                                 \n",
      " 15%|█▌        | 120/780 [09:01<48:06,  4.37s/it]"
     ]
    },
    {
     "name": "stdout",
     "output_type": "stream",
     "text": [
      "{'loss': 0.2398, 'grad_norm': 1.6443493366241455, 'learning_rate': 4.230769230769231e-05, 'epoch': 0.46}\n"
     ]
    },
    {
     "name": "stderr",
     "output_type": "stream",
     "text": [
      "                                                 \n",
      " 17%|█▋        | 130/780 [09:45<48:09,  4.45s/it]"
     ]
    },
    {
     "name": "stdout",
     "output_type": "stream",
     "text": [
      "{'loss': 0.2166, 'grad_norm': 1.9878499507904053, 'learning_rate': 4.166666666666667e-05, 'epoch': 0.5}\n"
     ]
    },
    {
     "name": "stderr",
     "output_type": "stream",
     "text": [
      "                                                 \n",
      " 18%|█▊        | 140/780 [10:30<47:50,  4.49s/it]"
     ]
    },
    {
     "name": "stdout",
     "output_type": "stream",
     "text": [
      "{'loss': 0.4245, 'grad_norm': 1.518293023109436, 'learning_rate': 4.1025641025641023e-05, 'epoch': 0.54}\n"
     ]
    },
    {
     "name": "stderr",
     "output_type": "stream",
     "text": [
      "                                                 \n",
      " 19%|█▉        | 150/780 [11:15<47:05,  4.49s/it]"
     ]
    },
    {
     "name": "stdout",
     "output_type": "stream",
     "text": [
      "{'loss': 0.3334, 'grad_norm': 1.519122838973999, 'learning_rate': 4.038461538461539e-05, 'epoch': 0.58}\n"
     ]
    },
    {
     "name": "stderr",
     "output_type": "stream",
     "text": [
      "                                                 \n",
      " 21%|██        | 160/780 [12:00<45:49,  4.43s/it]"
     ]
    },
    {
     "name": "stdout",
     "output_type": "stream",
     "text": [
      "{'loss': 0.3257, 'grad_norm': 1.343960165977478, 'learning_rate': 3.974358974358974e-05, 'epoch': 0.62}\n"
     ]
    },
    {
     "name": "stderr",
     "output_type": "stream",
     "text": [
      "                                                 \n",
      " 22%|██▏       | 170/780 [12:45<45:11,  4.45s/it]"
     ]
    },
    {
     "name": "stdout",
     "output_type": "stream",
     "text": [
      "{'loss': 0.2684, 'grad_norm': 1.3471447229385376, 'learning_rate': 3.9102564102564105e-05, 'epoch': 0.65}\n"
     ]
    },
    {
     "name": "stderr",
     "output_type": "stream",
     "text": [
      "                                                 \n",
      " 23%|██▎       | 180/780 [13:29<44:46,  4.48s/it]"
     ]
    },
    {
     "name": "stdout",
     "output_type": "stream",
     "text": [
      "{'loss': 0.21, 'grad_norm': 1.3680946826934814, 'learning_rate': 3.846153846153846e-05, 'epoch': 0.69}\n"
     ]
    },
    {
     "name": "stderr",
     "output_type": "stream",
     "text": [
      "                                                 \n",
      " 24%|██▍       | 190/780 [14:14<43:48,  4.46s/it]"
     ]
    },
    {
     "name": "stdout",
     "output_type": "stream",
     "text": [
      "{'loss': 0.3495, 'grad_norm': 1.2451105117797852, 'learning_rate': 3.782051282051282e-05, 'epoch': 0.73}\n"
     ]
    },
    {
     "name": "stderr",
     "output_type": "stream",
     "text": [
      "                                                 \n",
      " 26%|██▌       | 200/780 [15:00<44:31,  4.61s/it]"
     ]
    },
    {
     "name": "stdout",
     "output_type": "stream",
     "text": [
      "{'loss': 0.179, 'grad_norm': 1.9198607206344604, 'learning_rate': 3.717948717948718e-05, 'epoch': 0.77}\n"
     ]
    },
    {
     "name": "stderr",
     "output_type": "stream",
     "text": [
      "                                                 \n",
      " 27%|██▋       | 210/780 [15:45<41:48,  4.40s/it]"
     ]
    },
    {
     "name": "stdout",
     "output_type": "stream",
     "text": [
      "{'loss': 0.2325, 'grad_norm': 1.4309719800949097, 'learning_rate': 3.653846153846154e-05, 'epoch': 0.81}\n"
     ]
    },
    {
     "name": "stderr",
     "output_type": "stream",
     "text": [
      "                                                 \n",
      " 28%|██▊       | 220/780 [16:30<42:10,  4.52s/it]"
     ]
    },
    {
     "name": "stdout",
     "output_type": "stream",
     "text": [
      "{'loss': 0.2593, 'grad_norm': 1.2105952501296997, 'learning_rate': 3.58974358974359e-05, 'epoch': 0.85}\n"
     ]
    },
    {
     "name": "stderr",
     "output_type": "stream",
     "text": [
      "                                                 \n",
      " 29%|██▉       | 230/780 [17:16<41:23,  4.52s/it]"
     ]
    },
    {
     "name": "stdout",
     "output_type": "stream",
     "text": [
      "{'loss': 0.1571, 'grad_norm': 1.3449122905731201, 'learning_rate': 3.525641025641026e-05, 'epoch': 0.88}\n"
     ]
    },
    {
     "name": "stderr",
     "output_type": "stream",
     "text": [
      "                                                 \n",
      " 31%|███       | 240/780 [18:00<39:37,  4.40s/it]"
     ]
    },
    {
     "name": "stdout",
     "output_type": "stream",
     "text": [
      "{'loss': 0.1987, 'grad_norm': 1.9150651693344116, 'learning_rate': 3.461538461538462e-05, 'epoch': 0.92}\n"
     ]
    },
    {
     "name": "stderr",
     "output_type": "stream",
     "text": [
      "                                                 \n",
      " 32%|███▏      | 250/780 [18:46<40:15,  4.56s/it]"
     ]
    },
    {
     "name": "stdout",
     "output_type": "stream",
     "text": [
      "{'loss': 0.2024, 'grad_norm': 1.8233810663223267, 'learning_rate': 3.397435897435898e-05, 'epoch': 0.96}\n"
     ]
    },
    {
     "name": "stderr",
     "output_type": "stream",
     "text": [
      "                                                 \n",
      " 33%|███▎      | 260/780 [19:29<37:55,  4.38s/it]"
     ]
    },
    {
     "name": "stdout",
     "output_type": "stream",
     "text": [
      "{'loss': 0.2594, 'grad_norm': 1.6448605060577393, 'learning_rate': 3.3333333333333335e-05, 'epoch': 1.0}\n"
     ]
    },
    {
     "name": "stderr",
     "output_type": "stream",
     "text": [
      "\n",
      "\u001b[A\n",
      "\u001b[A\n",
      "\u001b[A\n",
      "\u001b[A\n",
      "\u001b[A\n",
      "\u001b[A\n",
      "\u001b[A\n",
      "\u001b[A\n",
      "\u001b[A\n",
      "\u001b[A\n",
      "\u001b[A\n",
      "\u001b[A\n",
      "\u001b[A\n",
      "\u001b[A\n",
      "\u001b[A\n",
      "\u001b[A\n",
      "\u001b[A\n",
      "\u001b[A\n",
      "\u001b[A\n",
      "\u001b[A\n",
      "\u001b[A\n",
      "\u001b[A\n",
      "\u001b[A\n",
      "\u001b[A\n",
      "\u001b[A\n",
      "\u001b[A\n",
      "\u001b[A\n",
      "\u001b[A\n",
      "\u001b[A\n",
      "\u001b[A\n",
      "\u001b[A\n",
      "\u001b[A\n",
      "\u001b[A\n",
      "\u001b[A\n",
      "\u001b[A\n",
      "\u001b[A\n",
      "\u001b[A\n",
      "\u001b[A\n",
      "\u001b[A\n",
      "\u001b[A\n",
      "\u001b[A\n",
      "\u001b[A\n",
      "\u001b[A\n",
      "\u001b[A\n",
      "\u001b[A\n",
      "\u001b[A\n",
      "\u001b[A\n",
      "\u001b[A\n",
      "\u001b[A\n",
      "\u001b[A\n",
      "\u001b[A\n",
      "\u001b[A\n",
      "\u001b[A\n",
      "\u001b[A\n",
      "\u001b[A\n",
      "\u001b[A\n",
      "\u001b[A\n",
      "\u001b[A\n",
      "\u001b[A\n",
      "\u001b[A\n",
      "\u001b[A\n",
      "\u001b[A\n",
      "\u001b[A\n",
      "\u001b[A\n",
      "                                                 \n",
      "\u001b[A                                    \n",
      "\n",
      " 33%|███▎      | 260/780 [20:41<37:55,  4.38s/it]\n",
      "\u001b[A\n",
      "\u001b[A"
     ]
    },
    {
     "name": "stdout",
     "output_type": "stream",
     "text": [
      "{'eval_loss': 0.18184229731559753, 'eval_runtime': 71.6663, 'eval_samples_per_second': 1.814, 'eval_steps_per_second': 0.907, 'epoch': 1.0}\n"
     ]
    },
    {
     "name": "stderr",
     "output_type": "stream",
     "text": [
      "                                                   \n",
      " 35%|███▍      | 270/780 [21:24<43:53,  5.16s/it]"
     ]
    },
    {
     "name": "stdout",
     "output_type": "stream",
     "text": [
      "{'loss': 0.201, 'grad_norm': 1.5832115411758423, 'learning_rate': 3.269230769230769e-05, 'epoch': 1.04}\n"
     ]
    },
    {
     "name": "stderr",
     "output_type": "stream",
     "text": [
      "                                                 \n",
      " 36%|███▌      | 280/780 [22:09<37:44,  4.53s/it]"
     ]
    },
    {
     "name": "stdout",
     "output_type": "stream",
     "text": [
      "{'loss': 0.1616, 'grad_norm': 1.8737314939498901, 'learning_rate': 3.205128205128206e-05, 'epoch': 1.08}\n"
     ]
    },
    {
     "name": "stderr",
     "output_type": "stream",
     "text": [
      "                                                 \n",
      " 37%|███▋      | 290/780 [22:54<35:47,  4.38s/it]"
     ]
    },
    {
     "name": "stdout",
     "output_type": "stream",
     "text": [
      "{'loss': 0.2393, 'grad_norm': 2.306267261505127, 'learning_rate': 3.141025641025641e-05, 'epoch': 1.12}\n"
     ]
    },
    {
     "name": "stderr",
     "output_type": "stream",
     "text": [
      "                                                 \n",
      " 38%|███▊      | 300/780 [23:36<35:00,  4.38s/it]"
     ]
    },
    {
     "name": "stdout",
     "output_type": "stream",
     "text": [
      "{'loss': 0.1389, 'grad_norm': 1.726609706878662, 'learning_rate': 3.0769230769230774e-05, 'epoch': 1.15}\n"
     ]
    },
    {
     "name": "stderr",
     "output_type": "stream",
     "text": [
      "                                                 \n",
      " 40%|███▉      | 310/780 [24:21<34:56,  4.46s/it]"
     ]
    },
    {
     "name": "stdout",
     "output_type": "stream",
     "text": [
      "{'loss': 0.1631, 'grad_norm': 1.8067774772644043, 'learning_rate': 3.012820512820513e-05, 'epoch': 1.19}\n"
     ]
    },
    {
     "name": "stderr",
     "output_type": "stream",
     "text": [
      "                                                 \n",
      " 41%|████      | 320/780 [25:06<33:56,  4.43s/it]"
     ]
    },
    {
     "name": "stdout",
     "output_type": "stream",
     "text": [
      "{'loss': 0.151, 'grad_norm': 1.6355897188186646, 'learning_rate': 2.948717948717949e-05, 'epoch': 1.23}\n"
     ]
    },
    {
     "name": "stderr",
     "output_type": "stream",
     "text": [
      "                                                 \n",
      " 42%|████▏     | 330/780 [25:50<33:06,  4.42s/it]"
     ]
    },
    {
     "name": "stdout",
     "output_type": "stream",
     "text": [
      "{'loss': 0.2038, 'grad_norm': 2.085676431655884, 'learning_rate': 2.8846153846153845e-05, 'epoch': 1.27}\n"
     ]
    },
    {
     "name": "stderr",
     "output_type": "stream",
     "text": [
      "                                                 \n",
      " 44%|████▎     | 340/780 [26:34<32:27,  4.43s/it]"
     ]
    },
    {
     "name": "stdout",
     "output_type": "stream",
     "text": [
      "{'loss': 0.1763, 'grad_norm': 2.9818949699401855, 'learning_rate': 2.8205128205128207e-05, 'epoch': 1.31}\n"
     ]
    },
    {
     "name": "stderr",
     "output_type": "stream",
     "text": [
      "                                                 \n",
      " 45%|████▍     | 350/780 [27:18<31:40,  4.42s/it]"
     ]
    },
    {
     "name": "stdout",
     "output_type": "stream",
     "text": [
      "{'loss': 0.2341, 'grad_norm': 1.367983341217041, 'learning_rate': 2.756410256410257e-05, 'epoch': 1.35}\n"
     ]
    },
    {
     "name": "stderr",
     "output_type": "stream",
     "text": [
      "                                                 \n",
      " 46%|████▌     | 360/780 [28:03<31:07,  4.45s/it]"
     ]
    },
    {
     "name": "stdout",
     "output_type": "stream",
     "text": [
      "{'loss': 0.2058, 'grad_norm': 1.3778948783874512, 'learning_rate': 2.6923076923076923e-05, 'epoch': 1.38}\n"
     ]
    },
    {
     "name": "stderr",
     "output_type": "stream",
     "text": [
      "                                                 \n",
      " 47%|████▋     | 370/780 [28:47<30:12,  4.42s/it]"
     ]
    },
    {
     "name": "stdout",
     "output_type": "stream",
     "text": [
      "{'loss': 0.1942, 'grad_norm': 0.8361591100692749, 'learning_rate': 2.6282051282051285e-05, 'epoch': 1.42}\n"
     ]
    },
    {
     "name": "stderr",
     "output_type": "stream",
     "text": [
      "                                                 \n",
      " 49%|████▊     | 380/780 [29:32<29:30,  4.43s/it]"
     ]
    },
    {
     "name": "stdout",
     "output_type": "stream",
     "text": [
      "{'loss': 0.1947, 'grad_norm': 2.047224283218384, 'learning_rate': 2.564102564102564e-05, 'epoch': 1.46}\n"
     ]
    },
    {
     "name": "stderr",
     "output_type": "stream",
     "text": [
      "                                                 \n",
      " 50%|█████     | 390/780 [30:16<29:15,  4.50s/it]"
     ]
    },
    {
     "name": "stdout",
     "output_type": "stream",
     "text": [
      "{'loss': 0.1245, 'grad_norm': 1.7003039121627808, 'learning_rate': 2.5e-05, 'epoch': 1.5}\n"
     ]
    },
    {
     "name": "stderr",
     "output_type": "stream",
     "text": [
      "                                                 \n",
      " 51%|█████▏    | 400/780 [31:01<28:58,  4.58s/it]"
     ]
    },
    {
     "name": "stdout",
     "output_type": "stream",
     "text": [
      "{'loss': 0.2225, 'grad_norm': 1.4357749223709106, 'learning_rate': 2.435897435897436e-05, 'epoch': 1.54}\n"
     ]
    },
    {
     "name": "stderr",
     "output_type": "stream",
     "text": [
      "                                                 \n",
      " 53%|█████▎    | 410/780 [31:46<27:42,  4.49s/it]"
     ]
    },
    {
     "name": "stdout",
     "output_type": "stream",
     "text": [
      "{'loss': 0.2297, 'grad_norm': 2.745622158050537, 'learning_rate': 2.3717948717948718e-05, 'epoch': 1.58}\n"
     ]
    },
    {
     "name": "stderr",
     "output_type": "stream",
     "text": [
      "                                                 \n",
      " 54%|█████▍    | 420/780 [32:31<26:57,  4.49s/it]"
     ]
    },
    {
     "name": "stdout",
     "output_type": "stream",
     "text": [
      "{'loss': 0.3133, 'grad_norm': 1.315982699394226, 'learning_rate': 2.307692307692308e-05, 'epoch': 1.62}\n"
     ]
    },
    {
     "name": "stderr",
     "output_type": "stream",
     "text": [
      "                                                 \n",
      " 55%|█████▌    | 430/780 [33:16<26:13,  4.50s/it]"
     ]
    },
    {
     "name": "stdout",
     "output_type": "stream",
     "text": [
      "{'loss': 0.1763, 'grad_norm': 2.0714974403381348, 'learning_rate': 2.2435897435897437e-05, 'epoch': 1.65}\n"
     ]
    },
    {
     "name": "stderr",
     "output_type": "stream",
     "text": [
      "                                                 \n",
      " 56%|█████▋    | 440/780 [34:01<25:15,  4.46s/it]"
     ]
    },
    {
     "name": "stdout",
     "output_type": "stream",
     "text": [
      "{'loss': 0.1997, 'grad_norm': 1.387109398841858, 'learning_rate': 2.1794871794871795e-05, 'epoch': 1.69}\n"
     ]
    },
    {
     "name": "stderr",
     "output_type": "stream",
     "text": [
      "                                                 \n",
      " 58%|█████▊    | 450/780 [34:45<24:26,  4.44s/it]"
     ]
    },
    {
     "name": "stdout",
     "output_type": "stream",
     "text": [
      "{'loss': 0.2173, 'grad_norm': 2.2341675758361816, 'learning_rate': 2.1153846153846154e-05, 'epoch': 1.73}\n"
     ]
    },
    {
     "name": "stderr",
     "output_type": "stream",
     "text": [
      "                                                 \n",
      " 59%|█████▉    | 460/780 [35:30<24:02,  4.51s/it]"
     ]
    },
    {
     "name": "stdout",
     "output_type": "stream",
     "text": [
      "{'loss': 0.1665, 'grad_norm': 2.8453948497772217, 'learning_rate': 2.0512820512820512e-05, 'epoch': 1.77}\n"
     ]
    },
    {
     "name": "stderr",
     "output_type": "stream",
     "text": [
      "                                                 \n",
      " 60%|██████    | 470/780 [36:22<29:39,  5.74s/it]"
     ]
    },
    {
     "name": "stdout",
     "output_type": "stream",
     "text": [
      "{'loss': 0.1587, 'grad_norm': 1.720787763595581, 'learning_rate': 1.987179487179487e-05, 'epoch': 1.81}\n"
     ]
    },
    {
     "name": "stderr",
     "output_type": "stream",
     "text": [
      "                                                 \n",
      " 62%|██████▏   | 480/780 [37:07<22:31,  4.50s/it]"
     ]
    },
    {
     "name": "stdout",
     "output_type": "stream",
     "text": [
      "{'loss': 0.1413, 'grad_norm': 1.4468289613723755, 'learning_rate': 1.923076923076923e-05, 'epoch': 1.85}\n"
     ]
    },
    {
     "name": "stderr",
     "output_type": "stream",
     "text": [
      "                                                 \n",
      " 63%|██████▎   | 490/780 [37:51<21:25,  4.43s/it]"
     ]
    },
    {
     "name": "stdout",
     "output_type": "stream",
     "text": [
      "{'loss': 0.1715, 'grad_norm': 1.3408221006393433, 'learning_rate': 1.858974358974359e-05, 'epoch': 1.88}\n"
     ]
    },
    {
     "name": "stderr",
     "output_type": "stream",
     "text": [
      "                                                 \n",
      " 64%|██████▍   | 500/780 [38:36<20:25,  4.38s/it]"
     ]
    },
    {
     "name": "stdout",
     "output_type": "stream",
     "text": [
      "{'loss': 0.1832, 'grad_norm': 1.4620161056518555, 'learning_rate': 1.794871794871795e-05, 'epoch': 1.92}\n"
     ]
    },
    {
     "name": "stderr",
     "output_type": "stream",
     "text": [
      "                                                 \n",
      " 65%|██████▌   | 510/780 [39:21<19:44,  4.39s/it]"
     ]
    },
    {
     "name": "stdout",
     "output_type": "stream",
     "text": [
      "{'loss': 0.2143, 'grad_norm': 2.809804916381836, 'learning_rate': 1.730769230769231e-05, 'epoch': 1.96}\n"
     ]
    },
    {
     "name": "stderr",
     "output_type": "stream",
     "text": [
      "                                                 \n",
      " 67%|██████▋   | 520/780 [40:04<18:38,  4.30s/it]"
     ]
    },
    {
     "name": "stdout",
     "output_type": "stream",
     "text": [
      "{'loss': 0.1695, 'grad_norm': 2.0505611896514893, 'learning_rate': 1.6666666666666667e-05, 'epoch': 2.0}\n"
     ]
    },
    {
     "name": "stderr",
     "output_type": "stream",
     "text": [
      "\n",
      "\u001b[A\n",
      "\u001b[A\n",
      "\u001b[A\n",
      "\u001b[A\n",
      "\u001b[A\n",
      "\u001b[A\n",
      "\u001b[A\n",
      "\u001b[A\n",
      "\u001b[A\n",
      "\u001b[A\n",
      "\u001b[A\n",
      "\u001b[A\n",
      "\u001b[A\n",
      "\u001b[A\n",
      "\u001b[A\n",
      "\u001b[A\n",
      "\u001b[A\n",
      "\u001b[A\n",
      "\u001b[A\n",
      "\u001b[A\n",
      "\u001b[A\n",
      "\u001b[A\n",
      "\u001b[A\n",
      "\u001b[A\n",
      "\u001b[A\n",
      "\u001b[A\n",
      "\u001b[A\n",
      "\u001b[A\n",
      "\u001b[A\n",
      "\u001b[A\n",
      "\u001b[A\n",
      "\u001b[A\n",
      "\u001b[A\n",
      "\u001b[A\n",
      "\u001b[A\n",
      "\u001b[A\n",
      "\u001b[A\n",
      "\u001b[A\n",
      "\u001b[A\n",
      "\u001b[A\n",
      "\u001b[A\n",
      "\u001b[A\n",
      "\u001b[A\n",
      "\u001b[A\n",
      "\u001b[A\n",
      "\u001b[A\n",
      "\u001b[A\n",
      "\u001b[A\n",
      "\u001b[A\n",
      "\u001b[A\n",
      "\u001b[A\n",
      "\u001b[A\n",
      "\u001b[A\n",
      "\u001b[A\n",
      "\u001b[A\n",
      "\u001b[A\n",
      "\u001b[A\n",
      "\u001b[A\n",
      "\u001b[A\n",
      "\u001b[A\n",
      "\u001b[A\n",
      "\u001b[A\n",
      "\u001b[A\n",
      "\u001b[A\n",
      "                                                 \n",
      "\u001b[A                                    \n",
      "\n",
      " 67%|██████▋   | 520/780 [41:15<18:38,  4.30s/it]\n",
      "\u001b[A\n",
      "\u001b[A"
     ]
    },
    {
     "name": "stdout",
     "output_type": "stream",
     "text": [
      "{'eval_loss': 0.16074250638484955, 'eval_runtime': 71.1527, 'eval_samples_per_second': 1.827, 'eval_steps_per_second': 0.914, 'epoch': 2.0}\n"
     ]
    },
    {
     "name": "stderr",
     "output_type": "stream",
     "text": [
      "                                                   \n",
      " 68%|██████▊   | 530/780 [41:58<21:22,  5.13s/it]"
     ]
    },
    {
     "name": "stdout",
     "output_type": "stream",
     "text": [
      "{'loss': 0.1676, 'grad_norm': 1.4050089120864868, 'learning_rate': 1.602564102564103e-05, 'epoch': 2.04}\n"
     ]
    },
    {
     "name": "stderr",
     "output_type": "stream",
     "text": [
      "                                                 \n",
      " 69%|██████▉   | 540/780 [42:42<17:47,  4.45s/it]"
     ]
    },
    {
     "name": "stdout",
     "output_type": "stream",
     "text": [
      "{'loss': 0.1699, 'grad_norm': 1.621198058128357, 'learning_rate': 1.5384615384615387e-05, 'epoch': 2.08}\n"
     ]
    },
    {
     "name": "stderr",
     "output_type": "stream",
     "text": [
      "                                                 \n",
      " 71%|███████   | 550/780 [43:27<17:00,  4.44s/it]"
     ]
    },
    {
     "name": "stdout",
     "output_type": "stream",
     "text": [
      "{'loss': 0.1539, 'grad_norm': 1.7315987348556519, 'learning_rate': 1.4743589743589745e-05, 'epoch': 2.12}\n"
     ]
    },
    {
     "name": "stderr",
     "output_type": "stream",
     "text": [
      "                                                 \n",
      " 72%|███████▏  | 560/780 [44:11<16:29,  4.50s/it]"
     ]
    },
    {
     "name": "stdout",
     "output_type": "stream",
     "text": [
      "{'loss': 0.1381, 'grad_norm': 1.6584547758102417, 'learning_rate': 1.4102564102564104e-05, 'epoch': 2.15}\n"
     ]
    },
    {
     "name": "stderr",
     "output_type": "stream",
     "text": [
      "                                                 \n",
      " 73%|███████▎  | 570/780 [44:57<16:03,  4.59s/it]"
     ]
    },
    {
     "name": "stdout",
     "output_type": "stream",
     "text": [
      "{'loss': 0.1568, 'grad_norm': 1.326914668083191, 'learning_rate': 1.3461538461538462e-05, 'epoch': 2.19}\n"
     ]
    },
    {
     "name": "stderr",
     "output_type": "stream",
     "text": [
      "                                                 \n",
      " 74%|███████▍  | 580/780 [45:43<15:17,  4.59s/it]"
     ]
    },
    {
     "name": "stdout",
     "output_type": "stream",
     "text": [
      "{'loss': 0.1772, 'grad_norm': 1.2647120952606201, 'learning_rate': 1.282051282051282e-05, 'epoch': 2.23}\n"
     ]
    },
    {
     "name": "stderr",
     "output_type": "stream",
     "text": [
      "                                                 \n",
      " 76%|███████▌  | 590/780 [46:28<14:21,  4.53s/it]"
     ]
    },
    {
     "name": "stdout",
     "output_type": "stream",
     "text": [
      "{'loss': 0.1959, 'grad_norm': 1.7430015802383423, 'learning_rate': 1.217948717948718e-05, 'epoch': 2.27}\n"
     ]
    },
    {
     "name": "stderr",
     "output_type": "stream",
     "text": [
      "                                                 \n",
      " 77%|███████▋  | 600/780 [47:13<13:24,  4.47s/it]"
     ]
    },
    {
     "name": "stdout",
     "output_type": "stream",
     "text": [
      "{'loss': 0.2316, 'grad_norm': 2.2990643978118896, 'learning_rate': 1.153846153846154e-05, 'epoch': 2.31}\n"
     ]
    },
    {
     "name": "stderr",
     "output_type": "stream",
     "text": [
      "                                                 \n",
      " 78%|███████▊  | 610/780 [47:59<12:50,  4.53s/it]"
     ]
    },
    {
     "name": "stdout",
     "output_type": "stream",
     "text": [
      "{'loss': 0.1263, 'grad_norm': 1.5915508270263672, 'learning_rate': 1.0897435897435898e-05, 'epoch': 2.35}\n"
     ]
    },
    {
     "name": "stderr",
     "output_type": "stream",
     "text": [
      "                                                 \n",
      " 79%|███████▉  | 620/780 [48:44<11:51,  4.45s/it]"
     ]
    },
    {
     "name": "stdout",
     "output_type": "stream",
     "text": [
      "{'loss': 0.1027, 'grad_norm': 1.4683643579483032, 'learning_rate': 1.0256410256410256e-05, 'epoch': 2.38}\n"
     ]
    },
    {
     "name": "stderr",
     "output_type": "stream",
     "text": [
      "                                                 \n",
      " 81%|████████  | 630/780 [49:29<11:07,  4.45s/it]"
     ]
    },
    {
     "name": "stdout",
     "output_type": "stream",
     "text": [
      "{'loss': 0.1766, 'grad_norm': 1.8124926090240479, 'learning_rate': 9.615384615384616e-06, 'epoch': 2.42}\n"
     ]
    },
    {
     "name": "stderr",
     "output_type": "stream",
     "text": [
      "                                                 \n",
      " 82%|████████▏ | 640/780 [50:13<10:22,  4.45s/it]"
     ]
    },
    {
     "name": "stdout",
     "output_type": "stream",
     "text": [
      "{'loss': 0.1367, 'grad_norm': 1.1199349164962769, 'learning_rate': 8.974358974358976e-06, 'epoch': 2.46}\n"
     ]
    },
    {
     "name": "stderr",
     "output_type": "stream",
     "text": [
      "                                                 \n",
      " 83%|████████▎ | 650/780 [50:58<09:43,  4.49s/it]"
     ]
    },
    {
     "name": "stdout",
     "output_type": "stream",
     "text": [
      "{'loss': 0.1632, 'grad_norm': 2.987386703491211, 'learning_rate': 8.333333333333334e-06, 'epoch': 2.5}\n"
     ]
    },
    {
     "name": "stderr",
     "output_type": "stream",
     "text": [
      "                                                 \n",
      " 85%|████████▍ | 660/780 [51:43<08:55,  4.47s/it]"
     ]
    },
    {
     "name": "stdout",
     "output_type": "stream",
     "text": [
      "{'loss': 0.1358, 'grad_norm': 1.5392460823059082, 'learning_rate': 7.692307692307694e-06, 'epoch': 2.54}\n"
     ]
    },
    {
     "name": "stderr",
     "output_type": "stream",
     "text": [
      "                                                 \n",
      " 86%|████████▌ | 670/780 [52:27<08:13,  4.48s/it]"
     ]
    },
    {
     "name": "stdout",
     "output_type": "stream",
     "text": [
      "{'loss': 0.1519, 'grad_norm': 1.2219432592391968, 'learning_rate': 7.051282051282052e-06, 'epoch': 2.58}\n"
     ]
    },
    {
     "name": "stderr",
     "output_type": "stream",
     "text": [
      "                                                 \n",
      " 87%|████████▋ | 680/780 [53:12<07:13,  4.34s/it]"
     ]
    },
    {
     "name": "stdout",
     "output_type": "stream",
     "text": [
      "{'loss': 0.138, 'grad_norm': 1.4626113176345825, 'learning_rate': 6.41025641025641e-06, 'epoch': 2.62}\n"
     ]
    },
    {
     "name": "stderr",
     "output_type": "stream",
     "text": [
      "                                                 \n",
      " 88%|████████▊ | 690/780 [53:56<06:31,  4.35s/it]"
     ]
    },
    {
     "name": "stdout",
     "output_type": "stream",
     "text": [
      "{'loss': 0.1614, 'grad_norm': 2.3443222045898438, 'learning_rate': 5.76923076923077e-06, 'epoch': 2.65}\n"
     ]
    },
    {
     "name": "stderr",
     "output_type": "stream",
     "text": [
      "                                                 \n",
      " 90%|████████▉ | 700/780 [54:38<05:33,  4.17s/it]"
     ]
    },
    {
     "name": "stdout",
     "output_type": "stream",
     "text": [
      "{'loss': 0.1828, 'grad_norm': 1.169180154800415, 'learning_rate': 5.128205128205128e-06, 'epoch': 2.69}\n"
     ]
    },
    {
     "name": "stderr",
     "output_type": "stream",
     "text": [
      "                                                 \n",
      " 91%|█████████ | 710/780 [55:20<04:55,  4.22s/it]"
     ]
    },
    {
     "name": "stdout",
     "output_type": "stream",
     "text": [
      "{'loss': 0.2049, 'grad_norm': 2.40272855758667, 'learning_rate': 4.487179487179488e-06, 'epoch': 2.73}\n"
     ]
    },
    {
     "name": "stderr",
     "output_type": "stream",
     "text": [
      "                                                 \n",
      " 92%|█████████▏| 720/780 [56:02<04:08,  4.14s/it]"
     ]
    },
    {
     "name": "stdout",
     "output_type": "stream",
     "text": [
      "{'loss': 0.1464, 'grad_norm': 1.3954224586486816, 'learning_rate': 3.846153846153847e-06, 'epoch': 2.77}\n"
     ]
    },
    {
     "name": "stderr",
     "output_type": "stream",
     "text": [
      "                                                 \n",
      " 94%|█████████▎| 730/780 [56:44<03:27,  4.15s/it]"
     ]
    },
    {
     "name": "stdout",
     "output_type": "stream",
     "text": [
      "{'loss': 0.2007, 'grad_norm': 1.5068132877349854, 'learning_rate': 3.205128205128205e-06, 'epoch': 2.81}\n"
     ]
    },
    {
     "name": "stderr",
     "output_type": "stream",
     "text": [
      "                                                 \n",
      " 95%|█████████▍| 740/780 [57:27<02:51,  4.30s/it]"
     ]
    },
    {
     "name": "stdout",
     "output_type": "stream",
     "text": [
      "{'loss': 0.1106, 'grad_norm': 1.1655679941177368, 'learning_rate': 2.564102564102564e-06, 'epoch': 2.85}\n"
     ]
    },
    {
     "name": "stderr",
     "output_type": "stream",
     "text": [
      "                                                 \n",
      " 96%|█████████▌| 750/780 [58:09<02:08,  4.30s/it]"
     ]
    },
    {
     "name": "stdout",
     "output_type": "stream",
     "text": [
      "{'loss': 0.178, 'grad_norm': 1.3250336647033691, 'learning_rate': 1.9230769230769234e-06, 'epoch': 2.88}\n"
     ]
    },
    {
     "name": "stderr",
     "output_type": "stream",
     "text": [
      "                                                 \n",
      " 97%|█████████▋| 760/780 [58:51<01:24,  4.23s/it]"
     ]
    },
    {
     "name": "stdout",
     "output_type": "stream",
     "text": [
      "{'loss': 0.1923, 'grad_norm': 1.6255768537521362, 'learning_rate': 1.282051282051282e-06, 'epoch': 2.92}\n"
     ]
    },
    {
     "name": "stderr",
     "output_type": "stream",
     "text": [
      "                                                 \n",
      " 99%|█████████▊| 770/780 [59:33<00:41,  4.16s/it]"
     ]
    },
    {
     "name": "stdout",
     "output_type": "stream",
     "text": [
      "{'loss': 0.1858, 'grad_norm': 1.5783381462097168, 'learning_rate': 6.41025641025641e-07, 'epoch': 2.96}\n"
     ]
    },
    {
     "name": "stderr",
     "output_type": "stream",
     "text": [
      "                                                   \n",
      "100%|██████████| 780/780 [1:00:15<00:00,  4.18s/it]"
     ]
    },
    {
     "name": "stdout",
     "output_type": "stream",
     "text": [
      "{'loss': 0.2478, 'grad_norm': 3.1815764904022217, 'learning_rate': 0.0, 'epoch': 3.0}\n"
     ]
    },
    {
     "name": "stderr",
     "output_type": "stream",
     "text": [
      "\n",
      "\u001b[A\n",
      "\u001b[A\n",
      "\u001b[A\n",
      "\u001b[A\n",
      "\u001b[A\n",
      "\u001b[A\n",
      "\u001b[A\n",
      "\u001b[A\n",
      "\u001b[A\n",
      "\u001b[A\n",
      "\u001b[A\n",
      "\u001b[A\n",
      "\u001b[A\n",
      "\u001b[A\n",
      "\u001b[A\n",
      "\u001b[A\n",
      "\u001b[A\n",
      "\u001b[A\n",
      "\u001b[A\n",
      "\u001b[A\n",
      "\u001b[A\n",
      "\u001b[A\n",
      "\u001b[A\n",
      "\u001b[A\n",
      "\u001b[A\n",
      "\u001b[A\n",
      "\u001b[A\n",
      "\u001b[A\n",
      "\u001b[A\n",
      "\u001b[A\n",
      "\u001b[A\n",
      "\u001b[A\n",
      "\u001b[A\n",
      "\u001b[A\n",
      "\u001b[A\n",
      "\u001b[A\n",
      "\u001b[A\n",
      "\u001b[A\n",
      "\u001b[A\n",
      "\u001b[A\n",
      "\u001b[A\n",
      "\u001b[A\n",
      "\u001b[A\n",
      "\u001b[A\n",
      "\u001b[A\n",
      "\u001b[A\n",
      "\u001b[A\n",
      "\u001b[A\n",
      "\u001b[A\n",
      "\u001b[A\n",
      "\u001b[A\n",
      "\u001b[A\n",
      "\u001b[A\n",
      "\u001b[A\n",
      "\u001b[A\n",
      "\u001b[A\n",
      "\u001b[A\n",
      "\u001b[A\n",
      "\u001b[A\n",
      "\u001b[A\n",
      "\u001b[A\n",
      "\u001b[A\n",
      "\u001b[A\n",
      "\u001b[A\n",
      "                                                   \n",
      "\u001b[A                                      \n",
      "\n",
      "100%|██████████| 780/780 [1:01:27<00:00,  4.18s/it]\n",
      "\u001b[A\n",
      "                                                   \n",
      "100%|██████████| 780/780 [1:01:27<00:00,  4.73s/it]"
     ]
    },
    {
     "name": "stdout",
     "output_type": "stream",
     "text": [
      "{'eval_loss': 0.15382349491119385, 'eval_runtime': 70.8919, 'eval_samples_per_second': 1.834, 'eval_steps_per_second': 0.917, 'epoch': 3.0}\n",
      "{'train_runtime': 3687.8368, 'train_samples_per_second': 0.423, 'train_steps_per_second': 0.212, 'train_loss': 0.23827883157974633, 'epoch': 3.0}\n"
     ]
    },
    {
     "name": "stderr",
     "output_type": "stream",
     "text": [
      "\n"
     ]
    },
    {
     "data": {
      "text/plain": [
       "TrainOutput(global_step=780, training_loss=0.23827883157974633, metrics={'train_runtime': 3687.8368, 'train_samples_per_second': 0.423, 'train_steps_per_second': 0.212, 'total_flos': 407615569920000.0, 'train_loss': 0.23827883157974633, 'epoch': 3.0})"
      ]
     },
     "execution_count": 30,
     "metadata": {},
     "output_type": "execute_result"
    }
   ],
   "source": [
    "trainer.train()"
   ]
  },
  {
   "cell_type": "code",
   "execution_count": 31,
   "metadata": {},
   "outputs": [
    {
     "data": {
      "text/plain": [
       "('./gpt2_finetuned\\\\tokenizer_config.json',\n",
       " './gpt2_finetuned\\\\special_tokens_map.json',\n",
       " './gpt2_finetuned\\\\vocab.json',\n",
       " './gpt2_finetuned\\\\merges.txt',\n",
       " './gpt2_finetuned\\\\added_tokens.json')"
      ]
     },
     "execution_count": 31,
     "metadata": {},
     "output_type": "execute_result"
    }
   ],
   "source": [
    "model.save_pretrained(\"./gpt2_finetuned\")\n",
    "tokenizer.save_pretrained(\"./gpt2_finetuned\")"
   ]
  },
  {
   "cell_type": "code",
   "execution_count": 32,
   "metadata": {},
   "outputs": [
    {
     "data": {
      "text/plain": [
       "GPT2LMHeadModel(\n",
       "  (transformer): GPT2Model(\n",
       "    (wte): Embedding(50257, 768)\n",
       "    (wpe): Embedding(1024, 768)\n",
       "    (drop): Dropout(p=0.1, inplace=False)\n",
       "    (h): ModuleList(\n",
       "      (0-11): 12 x GPT2Block(\n",
       "        (ln_1): LayerNorm((768,), eps=1e-05, elementwise_affine=True)\n",
       "        (attn): GPT2SdpaAttention(\n",
       "          (c_attn): Conv1D(nf=2304, nx=768)\n",
       "          (c_proj): Conv1D(nf=768, nx=768)\n",
       "          (attn_dropout): Dropout(p=0.1, inplace=False)\n",
       "          (resid_dropout): Dropout(p=0.1, inplace=False)\n",
       "        )\n",
       "        (ln_2): LayerNorm((768,), eps=1e-05, elementwise_affine=True)\n",
       "        (mlp): GPT2MLP(\n",
       "          (c_fc): Conv1D(nf=3072, nx=768)\n",
       "          (c_proj): Conv1D(nf=768, nx=3072)\n",
       "          (act): NewGELUActivation()\n",
       "          (dropout): Dropout(p=0.1, inplace=False)\n",
       "        )\n",
       "      )\n",
       "    )\n",
       "    (ln_f): LayerNorm((768,), eps=1e-05, elementwise_affine=True)\n",
       "  )\n",
       "  (lm_head): Linear(in_features=768, out_features=50257, bias=False)\n",
       ")"
      ]
     },
     "execution_count": 32,
     "metadata": {},
     "output_type": "execute_result"
    }
   ],
   "source": [
    "model.eval()"
   ]
  },
  {
   "cell_type": "code",
   "execution_count": 39,
   "metadata": {},
   "outputs": [],
   "source": [
    "input_text = \"Describe the symptoms and causes of apple scab disease.\"\n",
    "inputs = tokenizer(input_text, return_tensors=\"pt\")"
   ]
  },
  {
   "cell_type": "code",
   "execution_count": 40,
   "metadata": {},
   "outputs": [
    {
     "name": "stderr",
     "output_type": "stream",
     "text": [
      "The attention mask and the pad token id were not set. As a consequence, you may observe unexpected behavior. Please pass your input's `attention_mask` to obtain reliable results.\n",
      "Setting `pad_token_id` to `eos_token_id`:50256 for open-end generation.\n"
     ]
    },
    {
     "name": "stdout",
     "output_type": "stream",
     "text": [
      "Generated Text:\n",
      "Describe the symptoms and causes of apple scab disease.osed Visual; testsmicroopy\n"
     ]
    }
   ],
   "source": [
    "output = model.generate(inputs['input_ids'], max_length=100, num_return_sequences=1)\n",
    "\n",
    "# Decode the output text\n",
    "generated_text = tokenizer.decode(output[0], skip_special_tokens=True)\n",
    "\n",
    "print(\"Generated Text:\")\n",
    "print(generated_text)"
   ]
  },
  {
   "cell_type": "code",
   "execution_count": null,
   "metadata": {},
   "outputs": [],
   "source": []
  }
 ],
 "metadata": {
  "kernelspec": {
   "display_name": "cuda",
   "language": "python",
   "name": "python3"
  },
  "language_info": {
   "codemirror_mode": {
    "name": "ipython",
    "version": 3
   },
   "file_extension": ".py",
   "mimetype": "text/x-python",
   "name": "python",
   "nbconvert_exporter": "python",
   "pygments_lexer": "ipython3",
   "version": "3.12.0"
  }
 },
 "nbformat": 4,
 "nbformat_minor": 2
}
