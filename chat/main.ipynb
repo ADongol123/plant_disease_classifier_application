{
 "cells": [
  {
   "cell_type": "code",
   "execution_count": 15,
   "metadata": {},
   "outputs": [],
   "source": [
    "import google.generativeai as genai\n",
    "from datetime import datetime\n",
    "from PIL import Image\n",
    "from langchain.prompts import PromptTemplate\n",
    "import os"
   ]
  },
  {
   "cell_type": "code",
   "execution_count": 19,
   "metadata": {},
   "outputs": [],
   "source": [
    "value = genai.configure(api_key=os.environ['GOOGLE_GEMNI_AI'])\n",
    "current_date = datetime.now().strftime('%Y-%m-%d %H:%M:%S')\n"
   ]
  },
  {
   "cell_type": "code",
   "execution_count": 20,
   "metadata": {},
   "outputs": [],
   "source": [
    "prompt = \"\"\"\n",
    "    You are a Plant Advisor. You have to check if the plant is healthy or not?. What is the diagnosis and what is the treatment? \n",
    "    Today's date is  {date}.\n",
    "    Mention on which dates what has to be done from today like a prescription.\n",
    "    Also mention when should be the next checkup.\n",
    "\"\"\""
   ]
  },
  {
   "cell_type": "code",
   "execution_count": 25,
   "metadata": {},
   "outputs": [
    {
     "name": "stdout",
     "output_type": "stream",
     "text": [
      "The date is 2025-01-05\n"
     ]
    }
   ],
   "source": [
    "prompt_template = PromptTemplate(input_variables=[\"date\"], template=\"The date is {date}\")\n",
    "\n",
    "# Define the variable you want to use in the template\n",
    "current_date = \"2025-01-05\"\n",
    "\n",
    "# Format the prompt with the given value\n",
    "formatted_prompt = prompt_template.format(date=current_date)\n",
    "print(formatted_prompt)"
   ]
  },
  {
   "cell_type": "code",
   "execution_count": 7,
   "metadata": {},
   "outputs": [],
   "source": [
    "model = genai.GenerativeModel(model_name='gemini-1.5-pro')"
   ]
  },
  {
   "cell_type": "code",
   "execution_count": 11,
   "metadata": {},
   "outputs": [],
   "source": [
    "response = model.generate_content(['What is football'])"
   ]
  },
  {
   "cell_type": "code",
   "execution_count": 12,
   "metadata": {},
   "outputs": [
    {
     "name": "stdout",
     "output_type": "stream",
     "text": [
      "\"Football\" can refer to several different sports, depending on where you are in the world.  The most common are:\n",
      "\n",
      "* **American Football:** Played in the United States and Canada, this sport involves two teams of 11 players trying to advance an oval-shaped ball down a field by running or passing it, ultimately aiming to score touchdowns.  It's characterized by its heavy padding and strategic plays.  This is often simply called \"football\" in the US and Canada.\n",
      "\n",
      "* **Association Football (Soccer):** This is what much of the world calls \"football.\"  Played globally, it involves two teams of 11 players using their feet, head, and chest (but not their hands, except for the goalkeeper) to move a round ball down a field and score goals.  This is the most popular sport in the world.\n",
      "\n",
      "* **Canadian Football:**  Similar to American football but with some key differences, including a larger field, 12 players per team, and different scoring rules.\n",
      "\n",
      "* **Australian Rules Football:**  A fast-paced, free-flowing sport played on a large oval field.  Players can move the ball by kicking, hand-passing (punching), and running.  Scoring involves kicking the ball between goal posts.\n",
      "\n",
      "* **Gaelic Football:** Played primarily in Ireland, this sport combines elements of soccer, rugby, and basketball.  Players can carry, kick, or hand-pass the ball.\n",
      "\n",
      "* **Rugby Football (Rugby Union and Rugby League):**  These sports involve two teams trying to advance an oval-shaped ball down the field primarily by running with it or kicking it.  They involve tackling and are known for their physicality.\n",
      "\n",
      "\n",
      "So, to clarify which \"football\" you're interested in, it's best to be specific based on the region or context.\n",
      "\n"
     ]
    }
   ],
   "source": [
    "print(response.text)"
   ]
  },
  {
   "cell_type": "code",
   "execution_count": null,
   "metadata": {},
   "outputs": [],
   "source": []
  }
 ],
 "metadata": {
  "kernelspec": {
   "display_name": "cuda",
   "language": "python",
   "name": "python3"
  },
  "language_info": {
   "codemirror_mode": {
    "name": "ipython",
    "version": 3
   },
   "file_extension": ".py",
   "mimetype": "text/x-python",
   "name": "python",
   "nbconvert_exporter": "python",
   "pygments_lexer": "ipython3",
   "version": "3.12.0"
  }
 },
 "nbformat": 4,
 "nbformat_minor": 2
}
